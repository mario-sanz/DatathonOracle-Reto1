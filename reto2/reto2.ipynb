{
 "cells": [
  {
   "cell_type": "markdown",
   "id": "358d42f3-c716-4a7a-875c-fcd2a47fa16d",
   "metadata": {},
   "source": [
    "# Datathon - Reto 2\n",
    "## Análisis de sentimiento\n",
    "NLP con transfer learning mediante el modelo BERT"
   ]
  },
  {
   "cell_type": "code",
   "execution_count": 1,
   "id": "91acade7-a320-40f6-8409-242f26faff31",
   "metadata": {},
   "outputs": [
    {
     "name": "stderr",
     "output_type": "stream",
     "text": [
      "2023-03-26 08:35:22.821832: I tensorflow/core/platform/cpu_feature_guard.cc:193] This TensorFlow binary is optimized with oneAPI Deep Neural Network Library (oneDNN) to use the following CPU instructions in performance-critical operations:  AVX2 AVX_VNNI FMA\n",
      "To enable them in other operations, rebuild TensorFlow with the appropriate compiler flags.\n",
      "2023-03-26 08:35:22.880333: I tensorflow/core/util/port.cc:104] oneDNN custom operations are on. You may see slightly different numerical results due to floating-point round-off errors from different computation orders. To turn them off, set the environment variable `TF_ENABLE_ONEDNN_OPTS=0`.\n",
      "2023-03-26 08:35:23.167354: W tensorflow/compiler/xla/stream_executor/platform/default/dso_loader.cc:64] Could not load dynamic library 'libnvinfer.so.7'; dlerror: libnvinfer.so.7: cannot open shared object file: No such file or directory; LD_LIBRARY_PATH: :/home/jarroyo/miniconda3/envs/tf/lib/\n",
      "2023-03-26 08:35:23.167386: W tensorflow/compiler/xla/stream_executor/platform/default/dso_loader.cc:64] Could not load dynamic library 'libnvinfer_plugin.so.7'; dlerror: libnvinfer_plugin.so.7: cannot open shared object file: No such file or directory; LD_LIBRARY_PATH: :/home/jarroyo/miniconda3/envs/tf/lib/\n",
      "2023-03-26 08:35:23.167388: W tensorflow/compiler/tf2tensorrt/utils/py_utils.cc:38] TF-TRT Warning: Cannot dlopen some TensorRT libraries. If you would like to use Nvidia GPU with TensorRT, please make sure the missing libraries mentioned above are installed properly.\n"
     ]
    }
   ],
   "source": [
    "import pandas as pd\n",
    "import numpy as np\n",
    "from sklearn.utils import class_weight\n",
    "from sklearn.model_selection import train_test_split\n",
    "from sklearn.metrics import balanced_accuracy_score, f1_score, accuracy_score\n",
    "import tensorflow as tf\n",
    "import tensorflow_text as text\n",
    "import tensorflow_hub as hub\n",
    "from matplotlib import pyplot as plt\n",
    "import seaborn as sns"
   ]
  },
  {
   "cell_type": "code",
   "execution_count": 2,
   "id": "af0fbff3-d3c8-412c-bd74-d9e11069f78f",
   "metadata": {},
   "outputs": [
    {
     "data": {
      "text/html": [
       "<div>\n",
       "<style scoped>\n",
       "    .dataframe tbody tr th:only-of-type {\n",
       "        vertical-align: middle;\n",
       "    }\n",
       "\n",
       "    .dataframe tbody tr th {\n",
       "        vertical-align: top;\n",
       "    }\n",
       "\n",
       "    .dataframe thead th {\n",
       "        text-align: right;\n",
       "    }\n",
       "</style>\n",
       "<table border=\"1\" class=\"dataframe\">\n",
       "  <thead>\n",
       "    <tr style=\"text-align: right;\">\n",
       "      <th></th>\n",
       "      <th>train_idx</th>\n",
       "      <th>text</th>\n",
       "      <th>label</th>\n",
       "      <th>label_text</th>\n",
       "    </tr>\n",
       "  </thead>\n",
       "  <tbody>\n",
       "    <tr>\n",
       "      <th>0</th>\n",
       "      <td>0</td>\n",
       "      <td>i really do recommend this to anyone in need o...</td>\n",
       "      <td>1</td>\n",
       "      <td>positive</td>\n",
       "    </tr>\n",
       "    <tr>\n",
       "      <th>1</th>\n",
       "      <td>1</td>\n",
       "      <td>very good every day camera fits nicely in the ...</td>\n",
       "      <td>1</td>\n",
       "      <td>positive</td>\n",
       "    </tr>\n",
       "    <tr>\n",
       "      <th>2</th>\n",
       "      <td>2</td>\n",
       "      <td>but , dollar for dollar , this dvd player is p...</td>\n",
       "      <td>1</td>\n",
       "      <td>positive</td>\n",
       "    </tr>\n",
       "    <tr>\n",
       "      <th>3</th>\n",
       "      <td>3</td>\n",
       "      <td>i got this phone yesterday and didn ' t find a...</td>\n",
       "      <td>1</td>\n",
       "      <td>positive</td>\n",
       "    </tr>\n",
       "    <tr>\n",
       "      <th>4</th>\n",
       "      <td>4</td>\n",
       "      <td>1 ) price gb of storage</td>\n",
       "      <td>1</td>\n",
       "      <td>positive</td>\n",
       "    </tr>\n",
       "    <tr>\n",
       "      <th>...</th>\n",
       "      <td>...</td>\n",
       "      <td>...</td>\n",
       "      <td>...</td>\n",
       "      <td>...</td>\n",
       "    </tr>\n",
       "    <tr>\n",
       "      <th>3011</th>\n",
       "      <td>3011</td>\n",
       "      <td>as for itunes , i don ' t find it to be as goo...</td>\n",
       "      <td>1</td>\n",
       "      <td>positive</td>\n",
       "    </tr>\n",
       "    <tr>\n",
       "      <th>3012</th>\n",
       "      <td>3012</td>\n",
       "      <td>i have not played with all the features yet , ...</td>\n",
       "      <td>1</td>\n",
       "      <td>positive</td>\n",
       "    </tr>\n",
       "    <tr>\n",
       "      <th>3013</th>\n",
       "      <td>3013</td>\n",
       "      <td>applications it has lots of applications and t...</td>\n",
       "      <td>1</td>\n",
       "      <td>positive</td>\n",
       "    </tr>\n",
       "    <tr>\n",
       "      <th>3014</th>\n",
       "      <td>3014</td>\n",
       "      <td>battery non issue</td>\n",
       "      <td>1</td>\n",
       "      <td>positive</td>\n",
       "    </tr>\n",
       "    <tr>\n",
       "      <th>3015</th>\n",
       "      <td>3015</td>\n",
       "      <td>the fm tuner , the 5g of storage , and the rem...</td>\n",
       "      <td>1</td>\n",
       "      <td>positive</td>\n",
       "    </tr>\n",
       "  </tbody>\n",
       "</table>\n",
       "<p>3016 rows × 4 columns</p>\n",
       "</div>"
      ],
      "text/plain": [
       "      train_idx                                               text  label  \\\n",
       "0             0  i really do recommend this to anyone in need o...      1   \n",
       "1             1  very good every day camera fits nicely in the ...      1   \n",
       "2             2  but , dollar for dollar , this dvd player is p...      1   \n",
       "3             3  i got this phone yesterday and didn ' t find a...      1   \n",
       "4             4                            1 ) price gb of storage      1   \n",
       "...         ...                                                ...    ...   \n",
       "3011       3011  as for itunes , i don ' t find it to be as goo...      1   \n",
       "3012       3012  i have not played with all the features yet , ...      1   \n",
       "3013       3013  applications it has lots of applications and t...      1   \n",
       "3014       3014                                  battery non issue      1   \n",
       "3015       3015  the fm tuner , the 5g of storage , and the rem...      1   \n",
       "\n",
       "     label_text  \n",
       "0      positive  \n",
       "1      positive  \n",
       "2      positive  \n",
       "3      positive  \n",
       "4      positive  \n",
       "...         ...  \n",
       "3011   positive  \n",
       "3012   positive  \n",
       "3013   positive  \n",
       "3014   positive  \n",
       "3015   positive  \n",
       "\n",
       "[3016 rows x 4 columns]"
      ]
     },
     "execution_count": 2,
     "metadata": {},
     "output_type": "execute_result"
    }
   ],
   "source": [
    "df = pd.read_csv('train.csv')\n",
    "df"
   ]
  },
  {
   "cell_type": "code",
   "execution_count": 3,
   "id": "3a7e1ace",
   "metadata": {},
   "outputs": [
    {
     "data": {
      "text/html": [
       "<div>\n",
       "<style scoped>\n",
       "    .dataframe tbody tr th:only-of-type {\n",
       "        vertical-align: middle;\n",
       "    }\n",
       "\n",
       "    .dataframe tbody tr th {\n",
       "        vertical-align: top;\n",
       "    }\n",
       "\n",
       "    .dataframe thead th {\n",
       "        text-align: right;\n",
       "    }\n",
       "</style>\n",
       "<table border=\"1\" class=\"dataframe\">\n",
       "  <thead>\n",
       "    <tr style=\"text-align: right;\">\n",
       "      <th></th>\n",
       "      <th>train_idx</th>\n",
       "      <th>text</th>\n",
       "      <th>label</th>\n",
       "      <th>label_text</th>\n",
       "      <th>text_len</th>\n",
       "    </tr>\n",
       "  </thead>\n",
       "  <tbody>\n",
       "    <tr>\n",
       "      <th>0</th>\n",
       "      <td>0</td>\n",
       "      <td>i really do recommend this to anyone in need o...</td>\n",
       "      <td>1</td>\n",
       "      <td>positive</td>\n",
       "      <td>60</td>\n",
       "    </tr>\n",
       "    <tr>\n",
       "      <th>1</th>\n",
       "      <td>1</td>\n",
       "      <td>very good every day camera fits nicely in the ...</td>\n",
       "      <td>1</td>\n",
       "      <td>positive</td>\n",
       "      <td>89</td>\n",
       "    </tr>\n",
       "    <tr>\n",
       "      <th>2</th>\n",
       "      <td>2</td>\n",
       "      <td>but , dollar for dollar , this dvd player is p...</td>\n",
       "      <td>1</td>\n",
       "      <td>positive</td>\n",
       "      <td>72</td>\n",
       "    </tr>\n",
       "    <tr>\n",
       "      <th>3</th>\n",
       "      <td>3</td>\n",
       "      <td>i got this phone yesterday and didn ' t find a...</td>\n",
       "      <td>1</td>\n",
       "      <td>positive</td>\n",
       "      <td>69</td>\n",
       "    </tr>\n",
       "    <tr>\n",
       "      <th>4</th>\n",
       "      <td>4</td>\n",
       "      <td>1 ) price gb of storage</td>\n",
       "      <td>1</td>\n",
       "      <td>positive</td>\n",
       "      <td>23</td>\n",
       "    </tr>\n",
       "  </tbody>\n",
       "</table>\n",
       "</div>"
      ],
      "text/plain": [
       "   train_idx                                               text  label  \\\n",
       "0          0  i really do recommend this to anyone in need o...      1   \n",
       "1          1  very good every day camera fits nicely in the ...      1   \n",
       "2          2  but , dollar for dollar , this dvd player is p...      1   \n",
       "3          3  i got this phone yesterday and didn ' t find a...      1   \n",
       "4          4                            1 ) price gb of storage      1   \n",
       "\n",
       "  label_text  text_len  \n",
       "0   positive        60  \n",
       "1   positive        89  \n",
       "2   positive        72  \n",
       "3   positive        69  \n",
       "4   positive        23  "
      ]
     },
     "execution_count": 3,
     "metadata": {},
     "output_type": "execute_result"
    }
   ],
   "source": [
    "# Add description length to the dataset\n",
    "df[\"text_len\"] = df[\"text\"].str.len()\n",
    "df.head()"
   ]
  },
  {
   "cell_type": "code",
   "execution_count": 4,
   "id": "d2e98cb7-2b96-496d-ac16-58068a96a2e1",
   "metadata": {},
   "outputs": [
    {
     "data": {
      "text/plain": [
       "1    1926\n",
       "0    1090\n",
       "Name: label, dtype: int64"
      ]
     },
     "execution_count": 4,
     "metadata": {},
     "output_type": "execute_result"
    }
   ],
   "source": [
    "df['label'].value_counts()"
   ]
  },
  {
   "cell_type": "code",
   "execution_count": 5,
   "id": "38807b6c-6fc3-4b4a-98f9-f03fcc163789",
   "metadata": {},
   "outputs": [],
   "source": [
    "# Split dataset into train and test (these are datasets also)\n",
    "train, test = train_test_split(df,\n",
    "                               test_size = 0.2,\n",
    "                               random_state=42)"
   ]
  },
  {
   "cell_type": "code",
   "execution_count": 6,
   "id": "a835a4b3-ff31-4599-960d-fec565317b61",
   "metadata": {},
   "outputs": [],
   "source": [
    "# Required numpy arrays from the datasets for later computations\n",
    "X_train = train['text'].to_numpy()\n",
    "X_test = test['text'].to_numpy()\n",
    "\n",
    "y_train = train['label'].to_numpy()\n",
    "y_test = test['label'].to_numpy()"
   ]
  },
  {
   "cell_type": "code",
   "execution_count": 7,
   "id": "72fc7c48-98d2-453f-9809-f8e3700bfdd7",
   "metadata": {},
   "outputs": [],
   "source": [
    "# Imbalanced dataset: Adjust class weights\n",
    "class_weights = class_weight.compute_class_weight(class_weight='balanced',\n",
    "                                                  classes=np.unique(y_train),\n",
    "                                                  y=y_train)\n",
    "class_weights_dict = dict(enumerate(class_weights))"
   ]
  },
  {
   "cell_type": "code",
   "execution_count": 8,
   "id": "d544f5c7-cca5-4e86-af93-147365313c6d",
   "metadata": {},
   "outputs": [
    {
     "data": {
      "text/plain": [
       "{0: 1.372013651877133, 1: 0.786692759295499}"
      ]
     },
     "execution_count": 8,
     "metadata": {},
     "output_type": "execute_result"
    }
   ],
   "source": [
    "class_weights_dict"
   ]
  },
  {
   "cell_type": "code",
   "execution_count": 9,
   "id": "045016f3-c2ef-42fc-8ac7-6be97ba65b6e",
   "metadata": {},
   "outputs": [
    {
     "data": {
      "text/plain": [
       "array(['the interface took a little getting used to',\n",
       "       'loved the slim design',\n",
       "       'while the software may not be as easy as i tunes , it is not difficult to use by any stretch',\n",
       "       \"as for itunes , i don ' t find it to be as good as the windows media player as a computer mp3 player , but it is good enough\",\n",
       "       'i have it for a week now , and this camera has exceeded my expectations'],\n",
       "      dtype=object)"
      ]
     },
     "execution_count": 9,
     "metadata": {},
     "output_type": "execute_result"
    }
   ],
   "source": [
    "# Print some examples of the training set\n",
    "X_train[:5]"
   ]
  },
  {
   "cell_type": "code",
   "execution_count": 10,
   "id": "04f83b13-b2c9-47a4-be17-f98243bd8a97",
   "metadata": {},
   "outputs": [
    {
     "name": "stdout",
     "output_type": "stream",
     "text": [
      "WARNING:tensorflow:Please fix your imports. Module tensorflow.python.training.tracking.data_structures has been moved to tensorflow.python.trackable.data_structures. The old module will be deleted in version 2.11.\n"
     ]
    },
    {
     "name": "stderr",
     "output_type": "stream",
     "text": [
      "2023-03-26 08:35:23.808357: I tensorflow/compiler/xla/stream_executor/cuda/cuda_gpu_executor.cc:981] successful NUMA node read from SysFS had negative value (-1), but there must be at least one NUMA node, so returning NUMA node zero\n",
      "2023-03-26 08:35:23.812380: I tensorflow/compiler/xla/stream_executor/cuda/cuda_gpu_executor.cc:981] successful NUMA node read from SysFS had negative value (-1), but there must be at least one NUMA node, so returning NUMA node zero\n",
      "2023-03-26 08:35:23.812464: I tensorflow/compiler/xla/stream_executor/cuda/cuda_gpu_executor.cc:981] successful NUMA node read from SysFS had negative value (-1), but there must be at least one NUMA node, so returning NUMA node zero\n",
      "2023-03-26 08:35:23.812650: I tensorflow/core/platform/cpu_feature_guard.cc:193] This TensorFlow binary is optimized with oneAPI Deep Neural Network Library (oneDNN) to use the following CPU instructions in performance-critical operations:  AVX2 AVX_VNNI FMA\n",
      "To enable them in other operations, rebuild TensorFlow with the appropriate compiler flags.\n",
      "2023-03-26 08:35:23.813742: I tensorflow/compiler/xla/stream_executor/cuda/cuda_gpu_executor.cc:981] successful NUMA node read from SysFS had negative value (-1), but there must be at least one NUMA node, so returning NUMA node zero\n",
      "2023-03-26 08:35:23.813828: I tensorflow/compiler/xla/stream_executor/cuda/cuda_gpu_executor.cc:981] successful NUMA node read from SysFS had negative value (-1), but there must be at least one NUMA node, so returning NUMA node zero\n",
      "2023-03-26 08:35:23.813876: I tensorflow/compiler/xla/stream_executor/cuda/cuda_gpu_executor.cc:981] successful NUMA node read from SysFS had negative value (-1), but there must be at least one NUMA node, so returning NUMA node zero\n",
      "2023-03-26 08:35:24.100255: I tensorflow/compiler/xla/stream_executor/cuda/cuda_gpu_executor.cc:981] successful NUMA node read from SysFS had negative value (-1), but there must be at least one NUMA node, so returning NUMA node zero\n",
      "2023-03-26 08:35:24.100372: I tensorflow/compiler/xla/stream_executor/cuda/cuda_gpu_executor.cc:981] successful NUMA node read from SysFS had negative value (-1), but there must be at least one NUMA node, so returning NUMA node zero\n",
      "2023-03-26 08:35:24.100422: I tensorflow/compiler/xla/stream_executor/cuda/cuda_gpu_executor.cc:981] successful NUMA node read from SysFS had negative value (-1), but there must be at least one NUMA node, so returning NUMA node zero\n",
      "2023-03-26 08:35:24.100475: I tensorflow/core/common_runtime/gpu/gpu_device.cc:1613] Created device /job:localhost/replica:0/task:0/device:GPU:0 with 22111 MB memory:  -> device: 0, name: NVIDIA GeForce RTX 4090, pci bus id: 0000:01:00.0, compute capability: 8.9\n"
     ]
    }
   ],
   "source": [
    "# Bert preprocessing and pre-trained model\n",
    "bert_preprocess = hub.KerasLayer(\"https://tfhub.dev/tensorflow/bert_en_uncased_preprocess/3\", name=\"BERT_preprocess\")\n",
    "bert_encoder = hub.KerasLayer(\"https://tfhub.dev/tensorflow/bert_en_uncased_L-12_H-768_A-12/4\", name=\"BERT_encoder\")"
   ]
  },
  {
   "cell_type": "code",
   "execution_count": 11,
   "id": "b694e304-f340-4487-9538-20a511d700de",
   "metadata": {},
   "outputs": [
    {
     "name": "stdout",
     "output_type": "stream",
     "text": [
      "WARNING:tensorflow:From /home/jarroyo/.local/lib/python3.10/site-packages/tensorflow/python/autograph/pyct/static_analysis/liveness.py:83: Analyzer.lamba_check (from tensorflow.python.autograph.pyct.static_analysis.liveness) is deprecated and will be removed after 2023-09-23.\n",
      "Instructions for updating:\n",
      "Lambda fuctions will be no more assumed to be used in the statement where they are used, or at least in the same block. https://github.com/tensorflow/tensorflow/issues/56089\n"
     ]
    },
    {
     "name": "stderr",
     "output_type": "stream",
     "text": [
      "WARNING:tensorflow:From /home/jarroyo/.local/lib/python3.10/site-packages/tensorflow/python/autograph/pyct/static_analysis/liveness.py:83: Analyzer.lamba_check (from tensorflow.python.autograph.pyct.static_analysis.liveness) is deprecated and will be removed after 2023-09-23.\n",
      "Instructions for updating:\n",
      "Lambda fuctions will be no more assumed to be used in the statement where they are used, or at least in the same block. https://github.com/tensorflow/tensorflow/issues/56089\n"
     ]
    }
   ],
   "source": [
    "# Bert layers\n",
    "text_input = tf.keras.layers.Input(shape=(), dtype=tf.string, name='text')\n",
    "preprocessed_text = bert_preprocess(text_input)\n",
    "outputs = bert_encoder(preprocessed_text)\n",
    "\n",
    "# Neural network layers\n",
    "l = tf.keras.layers.Dropout(0.1, name=\"dropout\")(outputs['pooled_output'])\n",
    "l = tf.keras.layers.Dense(1, activation='sigmoid', name=\"output\")(l)\n",
    "\n",
    "# Use inputs and outputs to construct a final model\n",
    "model = tf.keras.Model(inputs=[text_input], outputs = [l])"
   ]
  },
  {
   "cell_type": "code",
   "execution_count": 12,
   "id": "32b93d2e-7f45-4009-a055-8709968c8193",
   "metadata": {},
   "outputs": [
    {
     "name": "stdout",
     "output_type": "stream",
     "text": [
      "Model: \"model\"\n",
      "__________________________________________________________________________________________________\n",
      " Layer (type)                   Output Shape         Param #     Connected to                     \n",
      "==================================================================================================\n",
      " text (InputLayer)              [(None,)]            0           []                               \n",
      "                                                                                                  \n",
      " BERT_preprocess (KerasLayer)   {'input_word_ids':   0           ['text[0][0]']                   \n",
      "                                (None, 128),                                                      \n",
      "                                 'input_type_ids':                                                \n",
      "                                (None, 128),                                                      \n",
      "                                 'input_mask': (Non                                               \n",
      "                                e, 128)}                                                          \n",
      "                                                                                                  \n",
      " BERT_encoder (KerasLayer)      {'encoder_outputs':  109482241   ['BERT_preprocess[0][0]',        \n",
      "                                 [(None, 128, 768),               'BERT_preprocess[0][1]',        \n",
      "                                 (None, 128, 768),                'BERT_preprocess[0][2]']        \n",
      "                                 (None, 128, 768),                                                \n",
      "                                 (None, 128, 768),                                                \n",
      "                                 (None, 128, 768),                                                \n",
      "                                 (None, 128, 768),                                                \n",
      "                                 (None, 128, 768),                                                \n",
      "                                 (None, 128, 768),                                                \n",
      "                                 (None, 128, 768),                                                \n",
      "                                 (None, 128, 768),                                                \n",
      "                                 (None, 128, 768),                                                \n",
      "                                 (None, 128, 768)],                                               \n",
      "                                 'sequence_output':                                               \n",
      "                                 (None, 128, 768),                                                \n",
      "                                 'pooled_output': (                                               \n",
      "                                None, 768),                                                       \n",
      "                                 'default': (None,                                                \n",
      "                                768)}                                                             \n",
      "                                                                                                  \n",
      " dropout (Dropout)              (None, 768)          0           ['BERT_encoder[0][13]']          \n",
      "                                                                                                  \n",
      " output (Dense)                 (None, 1)            769         ['dropout[0][0]']                \n",
      "                                                                                                  \n",
      "==================================================================================================\n",
      "Total params: 109,483,010\n",
      "Trainable params: 769\n",
      "Non-trainable params: 109,482,241\n",
      "__________________________________________________________________________________________________\n"
     ]
    }
   ],
   "source": [
    "model.summary()"
   ]
  },
  {
   "cell_type": "code",
   "execution_count": 13,
   "id": "1e8dba59-54e1-4bc8-8629-bb987b7e0c81",
   "metadata": {},
   "outputs": [],
   "source": [
    "model.compile(optimizer='adam',\n",
    "              loss='binary_crossentropy',\n",
    "              metrics=['accuracy'])"
   ]
  },
  {
   "cell_type": "code",
   "execution_count": 14,
   "id": "cd03a980-ad71-4dc8-8a93-6fdcf01639dd",
   "metadata": {},
   "outputs": [
    {
     "name": "stdout",
     "output_type": "stream",
     "text": [
      "Epoch 1/20\n",
      " 1/76 [..............................] - ETA: 4:22 - loss: 0.7398 - accuracy: 0.6250"
     ]
    },
    {
     "name": "stderr",
     "output_type": "stream",
     "text": [
      "2023-03-26 08:35:31.898990: I tensorflow/compiler/xla/stream_executor/cuda/cuda_blas.cc:630] TensorFloat-32 will be used for the matrix multiplication. This will only be logged once.\n",
      "2023-03-26 08:35:31.925721: I tensorflow/compiler/xla/service/service.cc:173] XLA service 0x7f877c007810 initialized for platform CUDA (this does not guarantee that XLA will be used). Devices:\n",
      "2023-03-26 08:35:31.925733: I tensorflow/compiler/xla/service/service.cc:181]   StreamExecutor device (0): NVIDIA GeForce RTX 4090, Compute Capability 8.9\n",
      "2023-03-26 08:35:31.928572: I tensorflow/compiler/mlir/tensorflow/utils/dump_mlir_util.cc:268] disabling MLIR crash reproducer, set env var `MLIR_CRASH_REPRODUCER_DIRECTORY` to enable.\n",
      "2023-03-26 08:35:31.968925: W tensorflow/compiler/xla/stream_executor/gpu/asm_compiler.cc:234] Falling back to the CUDA driver for PTX compilation; ptxas does not support CC 8.9\n",
      "2023-03-26 08:35:31.968938: W tensorflow/compiler/xla/stream_executor/gpu/asm_compiler.cc:237] Used ptxas at ptxas\n",
      "2023-03-26 08:35:31.969377: I tensorflow/compiler/jit/xla_compilation_cache.cc:477] Compiled cluster using XLA!  This line is logged at most once for the lifetime of the process.\n"
     ]
    },
    {
     "name": "stdout",
     "output_type": "stream",
     "text": [
      "76/76 [==============================] - 7s 53ms/step - loss: 0.6848 - accuracy: 0.5721\n",
      "Epoch 2/20\n",
      "76/76 [==============================] - 4s 58ms/step - loss: 0.6678 - accuracy: 0.5763\n",
      "Epoch 3/20\n",
      "76/76 [==============================] - 4s 59ms/step - loss: 0.6363 - accuracy: 0.6410\n",
      "Epoch 4/20\n",
      "76/76 [==============================] - 5s 60ms/step - loss: 0.6171 - accuracy: 0.6824\n",
      "Epoch 5/20\n",
      "76/76 [==============================] - 5s 60ms/step - loss: 0.6060 - accuracy: 0.6779\n",
      "Epoch 6/20\n",
      "76/76 [==============================] - 4s 58ms/step - loss: 0.5867 - accuracy: 0.7127\n",
      "Epoch 7/20\n",
      "76/76 [==============================] - 4s 59ms/step - loss: 0.5770 - accuracy: 0.7260\n",
      "Epoch 8/20\n",
      "76/76 [==============================] - 4s 59ms/step - loss: 0.5606 - accuracy: 0.7376\n",
      "Epoch 9/20\n",
      "76/76 [==============================] - 5s 60ms/step - loss: 0.5540 - accuracy: 0.7409\n",
      "Epoch 10/20\n",
      "76/76 [==============================] - 4s 59ms/step - loss: 0.5444 - accuracy: 0.7359\n",
      "Epoch 11/20\n",
      "76/76 [==============================] - 4s 58ms/step - loss: 0.5371 - accuracy: 0.7624\n",
      "Epoch 12/20\n",
      "76/76 [==============================] - 4s 56ms/step - loss: 0.5263 - accuracy: 0.7695\n",
      "Epoch 13/20\n",
      "76/76 [==============================] - 4s 56ms/step - loss: 0.5399 - accuracy: 0.7434\n",
      "Epoch 14/20\n",
      "76/76 [==============================] - 4s 56ms/step - loss: 0.5128 - accuracy: 0.7645\n",
      "Epoch 15/20\n",
      "76/76 [==============================] - 4s 56ms/step - loss: 0.5076 - accuracy: 0.7720\n",
      "Epoch 16/20\n",
      "76/76 [==============================] - 5s 59ms/step - loss: 0.5033 - accuracy: 0.7794\n",
      "Epoch 17/20\n",
      "76/76 [==============================] - 5s 60ms/step - loss: 0.5039 - accuracy: 0.7745\n",
      "Epoch 18/20\n",
      "76/76 [==============================] - 5s 59ms/step - loss: 0.4970 - accuracy: 0.7711\n",
      "Epoch 19/20\n",
      "76/76 [==============================] - 4s 59ms/step - loss: 0.5014 - accuracy: 0.7649\n",
      "Epoch 20/20\n",
      "76/76 [==============================] - 4s 59ms/step - loss: 0.4863 - accuracy: 0.7799\n"
     ]
    },
    {
     "data": {
      "text/plain": [
       "<keras.callbacks.History at 0x7f8796f13c40>"
      ]
     },
     "execution_count": 14,
     "metadata": {},
     "output_type": "execute_result"
    }
   ],
   "source": [
    "model.fit(X_train, y_train, epochs=20, batch_size = 32, class_weight=class_weights_dict)"
   ]
  },
  {
   "cell_type": "code",
   "execution_count": 15,
   "id": "7878f030-9f96-4e0e-a109-fb63efa3f634",
   "metadata": {},
   "outputs": [
    {
     "name": "stdout",
     "output_type": "stream",
     "text": [
      "19/19 [==============================] - 1s 58ms/step - loss: 0.4626 - accuracy: 0.8212\n"
     ]
    },
    {
     "data": {
      "text/plain": [
       "[0.4625716507434845, 0.8211920261383057]"
      ]
     },
     "execution_count": 15,
     "metadata": {},
     "output_type": "execute_result"
    }
   ],
   "source": [
    "model.evaluate(X_test, y_test)"
   ]
  },
  {
   "cell_type": "code",
   "execution_count": 16,
   "id": "c6101b72-6da8-4c1d-97b7-24e7378fdea2",
   "metadata": {},
   "outputs": [
    {
     "name": "stdout",
     "output_type": "stream",
     "text": [
      "19/19 [==============================] - 1s 36ms/step\n"
     ]
    }
   ],
   "source": [
    "y_predicted = model.predict(X_test)\n",
    "y_predicted = y_predicted.flatten()"
   ]
  },
  {
   "cell_type": "code",
   "execution_count": 17,
   "id": "0fd6f8ca-1030-4777-9ae4-cbb4f03e4ef8",
   "metadata": {},
   "outputs": [
    {
     "name": "stdout",
     "output_type": "stream",
     "text": [
      "['awesome camera with huge print quality in a tiny package']\n",
      "['very cool features great camera with zoom cool quality pictures great ringtones bluetooth feature is great']\n",
      "['get great themes and wallpapers for this phone and many many polyphonic rings']\n",
      "[\"the photo quality is amazing and i know i ' m going to have fun with all the features\"]\n",
      "['very sleek stylish as well as the screen options and visuals it has']\n",
      "['the pics can be touched up in photoshop , and be printed at 4x6 and they look great !']\n",
      "['have a great and easy to use bundled software']\n",
      "['the accessories that come with the player are great']\n",
      "['especially the lcd is big and the camera quality is among the very best around']\n",
      "['the camera has a wonderful set of features']\n"
     ]
    }
   ],
   "source": [
    "# Print 10 most positive descriptions\n",
    "for i in range(10):\n",
    "    print(X_test[np.where(y_predicted == sorted(y_predicted, reverse=True)[i])])"
   ]
  },
  {
   "cell_type": "code",
   "execution_count": 18,
   "id": "8f5397ff-ca7c-4f8c-b3ca-b7baee39d44d",
   "metadata": {
    "scrolled": true
   },
   "outputs": [
    {
     "name": "stdout",
     "output_type": "stream",
     "text": [
      "['it would only transfer 30 or so songs , and then come up with an error']\n",
      "['mediasource did not recognize my tags !']\n",
      "['their website had a download that helped remove those , although i had to manually remove a good number of files from the programs directory']\n",
      "['then my dvds would stop playing in the middle , or not even be read at all']\n",
      "['yes , you may get a whiff of a smell when you flip the handle , but then it is gone']\n",
      "['i tried called apex cu st service , no help']\n",
      "['the headphone jack failure seems to occur just about when the warranty period is to expire']\n",
      "['after installation , the very first time i booted up the creative mediasource organizer , intending to use its cd burning and ripping functions , it totally shorted out']\n",
      "[\"but about 25 of dvd ' s i ' ve played on it have a problem , when watching a movie the picture will freeze , but the dvd still plays , and eventually the picture kicks back in after skipping a few moments\"]\n",
      "['second might be a problem i might have with my pc but not too sure , when the player is connected on the usb and i start playing on it and also using the windows explorer , it sometimes pauses by itself and tries to synchronize with the pc during play , which is a bit irritating']\n",
      "['at first i had a problem with some smell , then i realized if you flip the lid back and always keep the same side facing in then there is no smell at all !']\n",
      "['second , the menu system and controls are poorly designed']\n",
      "['i was using a motorola t720i with verizon and i had alot of dropped calls and i had troubles syncing data']\n",
      "['4 ) the camera gets really hot when you are busy snapping away']\n",
      "['the achilles heel of this router is its inability to stream music , or copy large files over the local network']\n",
      "[\"two , the single wrench just doesn ' t work well\"]\n",
      "[\"if there were any complaints i have , they are marginal , but one is apples ' proprietary set up for music files , their incompatibility with other music services ( i e napster ) is down right wrong\"]\n",
      "['first , the sound quality is okay , but ( as at least one other reviewer has mentioned ) the eax can cause audio interference after about 30 minutes']\n",
      "['however , the main problem that i think is the with the sound quality']\n",
      "['it is embarassing getting phone calls from family members telling you that the dvd player you gave them less that 3 months ago is no longer working']\n"
     ]
    }
   ],
   "source": [
    "# Print least positive descriptions\n",
    "for i in range(20):\n",
    "    print(X_test[np.where(y_predicted == sorted(y_predicted)[i])])"
   ]
  },
  {
   "cell_type": "code",
   "execution_count": 19,
   "id": "d39b3465",
   "metadata": {},
   "outputs": [],
   "source": [
    "# Add description length to the dataset\n",
    "test[\"label_pred\"] = y_predicted"
   ]
  },
  {
   "cell_type": "markdown",
   "id": "9874758b-bc0e-43b5-8bc1-ae5f3a3554e0",
   "metadata": {},
   "source": [
    "## Adjusting the threshold\n",
    "\n",
    "In the code below, I will try to find the threshold that better binarizes the 2 target classes, so that we maximize the achieved F1 score"
   ]
  },
  {
   "cell_type": "code",
   "execution_count": 20,
   "id": "f252360c",
   "metadata": {},
   "outputs": [
    {
     "data": {
      "image/png": "[encoded data removed]",
      "text/plain": [
       "<Figure size 600x600 with 3 Axes>"
      ]
     },
     "metadata": {},
     "output_type": "display_data"
    }
   ],
   "source": [
    "joint_plot = sns.jointplot(test, x=\"text_len\", y=\"label_pred\", hue=\"label\", alpha=0.5)\n",
    "joint_plot.figure.savefig(\"predictionsPlot.png\")"
   ]
  },
  {
   "cell_type": "code",
   "execution_count": 21,
   "id": "a55532e0-1513-4a77-98d3-98b1a7536835",
   "metadata": {},
   "outputs": [],
   "source": [
    "def evaluate_thresholds(y_true, y_pred):\n",
    "    \"\"\"\n",
    "    This function evaluates different thresholds for binarizing predicted values.\n",
    "    It returns the balanced accuracy, f1 score and accuracy for each threshold value.\n",
    "\n",
    "    Parameters:\n",
    "    y_true (numpy array): The true binary labels (0 or 1).\n",
    "    y_pred (numpy array): The predicted probabilities between 0 and 1.\n",
    "\n",
    "    Returns:\n",
    "    thresholds (numpy array): The different threshold values that were tested.\n",
    "    balanced_accs (numpy array): The balanced accuracy for each threshold.\n",
    "    f1_scores (numpy array): The f1 score for each threshold.\n",
    "    accuracies (numpy array): The accuracy for each threshold.\n",
    "    \"\"\"\n",
    "    thresholds = np.linspace(y_pred.min(), y_pred.max(), 101)\n",
    "    balanced_accs = []\n",
    "    f1_scores = []\n",
    "    accuracies = []\n",
    "\n",
    "    for threshold in thresholds:\n",
    "        y_pred_bin = np.where(y_pred > threshold, 1, 0)\n",
    "        balanced_accs.append(balanced_accuracy_score(y_true, y_pred_bin))\n",
    "        f1_scores.append(f1_score(y_true, y_pred_bin))\n",
    "        accuracies.append(accuracy_score(y_true, y_pred_bin))\n",
    "\n",
    "    return thresholds, balanced_accs, f1_scores, accuracies"
   ]
  },
  {
   "cell_type": "code",
   "execution_count": 22,
   "id": "6680dc51-15ba-48b6-bd03-3ff8166cc01f",
   "metadata": {},
   "outputs": [
    {
     "data": {
      "image/png": "[encoded data removed]",
      "text/plain": [
       "<Figure size 640x480 with 1 Axes>"
      ]
     },
     "metadata": {},
     "output_type": "display_data"
    }
   ],
   "source": [
    "# Evaluate the predictions using different threshold values\n",
    "thresholds, balanced_accs, f1_scores, accuracies = evaluate_thresholds(test['label'].to_numpy(), \n",
    "                                                                       test['label_pred'].to_numpy())\n",
    "\n",
    "# Plot the evaluation metrics vs threshold value\n",
    "fig, ax = plt.subplots()\n",
    "ax.plot(thresholds, balanced_accs, label='BAC')\n",
    "ax.plot(thresholds, f1_scores, label='F1')\n",
    "ax.plot(thresholds, accuracies, label='ACC')\n",
    "\n",
    "# Add a reference line at y=0.5\n",
    "ax.axhline(y=0.5, color='gray', linestyle='--', label='0.5 reference')\n",
    "\n",
    "# Add a dot on the highest value of each line and print the max value\n",
    "max_balanced_acc = max(balanced_accs)\n",
    "max_f1_score = max(f1_scores)\n",
    "max_accuracy = max(accuracies)\n",
    "ax.plot(thresholds[balanced_accs.index(max_balanced_acc)], max_balanced_acc, 'o', markersize=5, color='blue',\n",
    "        label=f'Max BAC: {max_balanced_acc:.3f}')\n",
    "ax.plot(thresholds[f1_scores.index(max_f1_score)], max_f1_score, 'o', markersize=5, color='darkorange',\n",
    "        label=f'Max F1: {max_f1_score:.3f}')\n",
    "ax.plot(thresholds[accuracies.index(max_accuracy)], max_accuracy, 'o', markersize=5, color='green',\n",
    "        label=f'Max ACC: {max_accuracy:.3f}')\n",
    "\n",
    "ax.set_xlabel(\"Threshold value\")\n",
    "ax.set_ylabel(\"Metric scores\")\n",
    "ax.legend(loc='best')\n",
    "plt.savefig('measuresPerThresholdWithMax.png')\n",
    "plt.show()"
   ]
  },
  {
   "cell_type": "markdown",
   "id": "98c96c10-d51b-4bbb-9a0e-81920f1730c3",
   "metadata": {},
   "source": [
    "AL FINAL HAY QUE HACER UN PREDICT CON EL test.csv, AJUSTANDO EL MODELO CON TODOS LOS DATOS DE ENTRENAMIENTO\n",
    "\n",
    "Lo que he hecho arriba está muy bien para ver qué tal funciona, pero estoy entrenando el modelo solo con 80% de los datos etiquetados que nos dan para poder validar qué tal está funcionando.\n",
    "\n",
    "Los datos de `test.csv` nos los dan sin etiquetar, así que hay que entrenar el modelo con todos los datos de `train.csv` para generar nuestras predicciones finales. La forma de validar esto será generar el `predictions.json` y subirlo a la plataforma."
   ]
  },
  {
   "attachments": {},
   "cell_type": "markdown",
   "id": "db4ea451",
   "metadata": {},
   "source": [
    "## ENTREGA"
   ]
  },
  {
   "cell_type": "code",
   "execution_count": 15,
   "id": "69ee0645",
   "metadata": {},
   "outputs": [],
   "source": [
    "import pandas as pd\n",
    "import numpy as np\n",
    "from sklearn.utils import class_weight\n",
    "from sklearn.model_selection import train_test_split\n",
    "from sklearn.metrics import balanced_accuracy_score, f1_score, accuracy_score\n",
    "import tensorflow as tf\n",
    "import tensorflow_text as text\n",
    "import tensorflow_hub as hub\n",
    "from matplotlib import pyplot as plt\n",
    "import seaborn as sns"
   ]
  },
  {
   "cell_type": "code",
   "execution_count": 16,
   "id": "ad2c6e73",
   "metadata": {},
   "outputs": [
    {
     "data": {
      "text/html": [
       "<div>\n",
       "<style scoped>\n",
       "    .dataframe tbody tr th:only-of-type {\n",
       "        vertical-align: middle;\n",
       "    }\n",
       "\n",
       "    .dataframe tbody tr th {\n",
       "        vertical-align: top;\n",
       "    }\n",
       "\n",
       "    .dataframe thead th {\n",
       "        text-align: right;\n",
       "    }\n",
       "</style>\n",
       "<table border=\"1\" class=\"dataframe\">\n",
       "  <thead>\n",
       "    <tr style=\"text-align: right;\">\n",
       "      <th></th>\n",
       "      <th>train_idx</th>\n",
       "      <th>text</th>\n",
       "      <th>label</th>\n",
       "      <th>label_text</th>\n",
       "      <th>text_len</th>\n",
       "    </tr>\n",
       "  </thead>\n",
       "  <tbody>\n",
       "    <tr>\n",
       "      <th>0</th>\n",
       "      <td>0</td>\n",
       "      <td>i really do recommend this to anyone in need o...</td>\n",
       "      <td>1</td>\n",
       "      <td>positive</td>\n",
       "      <td>60</td>\n",
       "    </tr>\n",
       "    <tr>\n",
       "      <th>1</th>\n",
       "      <td>1</td>\n",
       "      <td>very good every day camera fits nicely in the ...</td>\n",
       "      <td>1</td>\n",
       "      <td>positive</td>\n",
       "      <td>89</td>\n",
       "    </tr>\n",
       "    <tr>\n",
       "      <th>2</th>\n",
       "      <td>2</td>\n",
       "      <td>but , dollar for dollar , this dvd player is p...</td>\n",
       "      <td>1</td>\n",
       "      <td>positive</td>\n",
       "      <td>72</td>\n",
       "    </tr>\n",
       "    <tr>\n",
       "      <th>3</th>\n",
       "      <td>3</td>\n",
       "      <td>i got this phone yesterday and didn ' t find a...</td>\n",
       "      <td>1</td>\n",
       "      <td>positive</td>\n",
       "      <td>69</td>\n",
       "    </tr>\n",
       "    <tr>\n",
       "      <th>4</th>\n",
       "      <td>4</td>\n",
       "      <td>1 ) price gb of storage</td>\n",
       "      <td>1</td>\n",
       "      <td>positive</td>\n",
       "      <td>23</td>\n",
       "    </tr>\n",
       "    <tr>\n",
       "      <th>...</th>\n",
       "      <td>...</td>\n",
       "      <td>...</td>\n",
       "      <td>...</td>\n",
       "      <td>...</td>\n",
       "      <td>...</td>\n",
       "    </tr>\n",
       "    <tr>\n",
       "      <th>3011</th>\n",
       "      <td>3011</td>\n",
       "      <td>as for itunes , i don ' t find it to be as goo...</td>\n",
       "      <td>1</td>\n",
       "      <td>positive</td>\n",
       "      <td>124</td>\n",
       "    </tr>\n",
       "    <tr>\n",
       "      <th>3012</th>\n",
       "      <td>3012</td>\n",
       "      <td>i have not played with all the features yet , ...</td>\n",
       "      <td>1</td>\n",
       "      <td>positive</td>\n",
       "      <td>99</td>\n",
       "    </tr>\n",
       "    <tr>\n",
       "      <th>3013</th>\n",
       "      <td>3013</td>\n",
       "      <td>applications it has lots of applications and t...</td>\n",
       "      <td>1</td>\n",
       "      <td>positive</td>\n",
       "      <td>126</td>\n",
       "    </tr>\n",
       "    <tr>\n",
       "      <th>3014</th>\n",
       "      <td>3014</td>\n",
       "      <td>battery non issue</td>\n",
       "      <td>1</td>\n",
       "      <td>positive</td>\n",
       "      <td>17</td>\n",
       "    </tr>\n",
       "    <tr>\n",
       "      <th>3015</th>\n",
       "      <td>3015</td>\n",
       "      <td>the fm tuner , the 5g of storage , and the rem...</td>\n",
       "      <td>1</td>\n",
       "      <td>positive</td>\n",
       "      <td>80</td>\n",
       "    </tr>\n",
       "  </tbody>\n",
       "</table>\n",
       "<p>3016 rows × 5 columns</p>\n",
       "</div>"
      ],
      "text/plain": [
       "      train_idx                                               text  label  \\\n",
       "0             0  i really do recommend this to anyone in need o...      1   \n",
       "1             1  very good every day camera fits nicely in the ...      1   \n",
       "2             2  but , dollar for dollar , this dvd player is p...      1   \n",
       "3             3  i got this phone yesterday and didn ' t find a...      1   \n",
       "4             4                            1 ) price gb of storage      1   \n",
       "...         ...                                                ...    ...   \n",
       "3011       3011  as for itunes , i don ' t find it to be as goo...      1   \n",
       "3012       3012  i have not played with all the features yet , ...      1   \n",
       "3013       3013  applications it has lots of applications and t...      1   \n",
       "3014       3014                                  battery non issue      1   \n",
       "3015       3015  the fm tuner , the 5g of storage , and the rem...      1   \n",
       "\n",
       "     label_text  text_len  \n",
       "0      positive        60  \n",
       "1      positive        89  \n",
       "2      positive        72  \n",
       "3      positive        69  \n",
       "4      positive        23  \n",
       "...         ...       ...  \n",
       "3011   positive       124  \n",
       "3012   positive        99  \n",
       "3013   positive       126  \n",
       "3014   positive        17  \n",
       "3015   positive        80  \n",
       "\n",
       "[3016 rows x 5 columns]"
      ]
     },
     "execution_count": 16,
     "metadata": {},
     "output_type": "execute_result"
    }
   ],
   "source": [
    "#load full train and test datasets\n",
    "df_train = pd.read_csv('train.csv')\n",
    "df_test = pd.read_csv('test.csv')\n",
    "\n",
    "# Add description length to the dataset\n",
    "df_train[\"text_len\"] = df_train[\"text\"].str.len()\n",
    "\n",
    "df_train"
   ]
  },
  {
   "cell_type": "code",
   "execution_count": 17,
   "id": "2b009f33",
   "metadata": {},
   "outputs": [],
   "source": [
    "# Require numpy arrays from the datasets for later computations\n",
    "X_train = df_train['text'].to_numpy()\n",
    "y_train = df_train['label'].to_numpy()\n",
    "X_test = df_test['text'].to_numpy()"
   ]
  },
  {
   "cell_type": "code",
   "execution_count": 18,
   "id": "8a9781b5",
   "metadata": {},
   "outputs": [],
   "source": [
    "# Bert preprocessing and pre-trained model\n",
    "bert_preprocess = hub.KerasLayer(\"https://tfhub.dev/tensorflow/bert_en_uncased_preprocess/3\", name=\"BERT_preprocess\")\n",
    "bert_encoder = hub.KerasLayer(\"https://tfhub.dev/tensorflow/bert_en_uncased_L-12_H-768_A-12/4\", name=\"BERT_encoder\")"
   ]
  },
  {
   "cell_type": "code",
   "execution_count": 19,
   "id": "0688f4ce",
   "metadata": {},
   "outputs": [],
   "source": [
    "# Bert layers\n",
    "text_input = tf.keras.layers.Input(shape=(), dtype=tf.string, name='text')\n",
    "preprocessed_text = bert_preprocess(text_input)\n",
    "outputs = bert_encoder(preprocessed_text)\n",
    "\n",
    "# Neural network layers\n",
    "l = tf.keras.layers.Dropout(0.1, name=\"dropout\")(outputs['pooled_output'])\n",
    "l = tf.keras.layers.Dense(1, activation='sigmoid', name=\"output\")(l)\n",
    "\n",
    "# Use inputs and outputs to construct a final model\n",
    "model = tf.keras.Model(inputs=[text_input], outputs = [l])"
   ]
  },
  {
   "cell_type": "code",
   "execution_count": 20,
   "id": "90110f69",
   "metadata": {},
   "outputs": [
    {
     "name": "stdout",
     "output_type": "stream",
     "text": [
      "Model: \"model_1\"\n",
      "__________________________________________________________________________________________________\n",
      " Layer (type)                   Output Shape         Param #     Connected to                     \n",
      "==================================================================================================\n",
      " text (InputLayer)              [(None,)]            0           []                               \n",
      "                                                                                                  \n",
      " BERT_preprocess (KerasLayer)   {'input_word_ids':   0           ['text[0][0]']                   \n",
      "                                (None, 128),                                                      \n",
      "                                 'input_mask': (Non                                               \n",
      "                                e, 128),                                                          \n",
      "                                 'input_type_ids':                                                \n",
      "                                (None, 128)}                                                      \n",
      "                                                                                                  \n",
      " BERT_encoder (KerasLayer)      {'encoder_outputs':  109482241   ['BERT_preprocess[0][0]',        \n",
      "                                 [(None, 128, 768),               'BERT_preprocess[0][1]',        \n",
      "                                 (None, 128, 768),                'BERT_preprocess[0][2]']        \n",
      "                                 (None, 128, 768),                                                \n",
      "                                 (None, 128, 768),                                                \n",
      "                                 (None, 128, 768),                                                \n",
      "                                 (None, 128, 768),                                                \n",
      "                                 (None, 128, 768),                                                \n",
      "                                 (None, 128, 768),                                                \n",
      "                                 (None, 128, 768),                                                \n",
      "                                 (None, 128, 768),                                                \n",
      "                                 (None, 128, 768),                                                \n",
      "                                 (None, 128, 768)],                                               \n",
      "                                 'sequence_output':                                               \n",
      "                                 (None, 128, 768),                                                \n",
      "                                 'default': (None,                                                \n",
      "                                768),                                                             \n",
      "                                 'pooled_output': (                                               \n",
      "                                None, 768)}                                                       \n",
      "                                                                                                  \n",
      " dropout (Dropout)              (None, 768)          0           ['BERT_encoder[0][13]']          \n",
      "                                                                                                  \n",
      " output (Dense)                 (None, 1)            769         ['dropout[0][0]']                \n",
      "                                                                                                  \n",
      "==================================================================================================\n",
      "Total params: 109,483,010\n",
      "Trainable params: 769\n",
      "Non-trainable params: 109,482,241\n",
      "__________________________________________________________________________________________________\n"
     ]
    }
   ],
   "source": [
    "model.summary()"
   ]
  },
  {
   "cell_type": "code",
   "execution_count": 21,
   "id": "17d3e80c",
   "metadata": {},
   "outputs": [],
   "source": [
    "model.compile(optimizer='adam',\n",
    "              loss='binary_crossentropy',\n",
    "              metrics=['accuracy'])"
   ]
  },
  {
   "cell_type": "code",
   "execution_count": 22,
   "id": "59a95e07",
   "metadata": {},
   "outputs": [
    {
     "name": "stdout",
     "output_type": "stream",
     "text": [
      "Epoch 1/20\n",
      "95/95 [==============================] - 391s 4s/step - loss: 0.6478 - accuracy: 0.6412\n",
      "Epoch 2/20\n",
      "95/95 [==============================] - 365s 4s/step - loss: 0.6102 - accuracy: 0.6631\n",
      "Epoch 3/20\n",
      "95/95 [==============================] - 376s 4s/step - loss: 0.5955 - accuracy: 0.6860\n",
      "Epoch 4/20\n",
      "95/95 [==============================] - 392s 4s/step - loss: 0.5686 - accuracy: 0.7145\n",
      "Epoch 5/20\n",
      "95/95 [==============================] - 410s 4s/step - loss: 0.5504 - accuracy: 0.7278\n",
      "Epoch 6/20\n",
      "95/95 [==============================] - 385s 4s/step - loss: 0.5350 - accuracy: 0.7407\n",
      "Epoch 7/20\n",
      "95/95 [==============================] - 367s 4s/step - loss: 0.5225 - accuracy: 0.7454\n",
      "Epoch 8/20\n",
      "95/95 [==============================] - 371s 4s/step - loss: 0.5158 - accuracy: 0.7543\n",
      "Epoch 9/20\n",
      "95/95 [==============================] - 368s 4s/step - loss: 0.5099 - accuracy: 0.7576\n",
      "Epoch 10/20\n",
      "95/95 [==============================] - 361s 4s/step - loss: 0.5018 - accuracy: 0.7706\n",
      "Epoch 11/20\n",
      "95/95 [==============================] - 370s 4s/step - loss: 0.4968 - accuracy: 0.7719\n",
      "Epoch 12/20\n",
      "95/95 [==============================] - 378s 4s/step - loss: 0.4801 - accuracy: 0.7855\n",
      "Epoch 13/20\n",
      "95/95 [==============================] - 367s 4s/step - loss: 0.4761 - accuracy: 0.7818\n",
      "Epoch 14/20\n",
      "95/95 [==============================] - 386s 4s/step - loss: 0.4734 - accuracy: 0.7855\n",
      "Epoch 15/20\n",
      "95/95 [==============================] - 387s 4s/step - loss: 0.4656 - accuracy: 0.7944\n",
      "Epoch 16/20\n",
      "95/95 [==============================] - 399s 4s/step - loss: 0.4594 - accuracy: 0.7971\n",
      "Epoch 17/20\n",
      "95/95 [==============================] - 376s 4s/step - loss: 0.4611 - accuracy: 0.7934\n",
      "Epoch 18/20\n",
      "95/95 [==============================] - 387s 4s/step - loss: 0.4654 - accuracy: 0.7818\n",
      "Epoch 19/20\n",
      "95/95 [==============================] - 384s 4s/step - loss: 0.4547 - accuracy: 0.7901\n",
      "Epoch 20/20\n",
      "95/95 [==============================] - 380s 4s/step - loss: 0.4479 - accuracy: 0.8047\n"
     ]
    },
    {
     "data": {
      "text/plain": [
       "<keras.callbacks.History at 0x27320efa160>"
      ]
     },
     "execution_count": 22,
     "metadata": {},
     "output_type": "execute_result"
    }
   ],
   "source": [
    "model.fit(X_train, y_train, epochs=20, batch_size = 32)"
   ]
  },
  {
   "cell_type": "code",
   "execution_count": 23,
   "id": "267c03e7",
   "metadata": {},
   "outputs": [
    {
     "name": "stdout",
     "output_type": "stream",
     "text": [
      "24/24 [==============================] - 94s 4s/step\n"
     ]
    }
   ],
   "source": [
    "y_predicted = model.predict(X_test)\n",
    "y_predicted_flatenned = y_predicted.flatten()"
   ]
  },
  {
   "cell_type": "code",
   "execution_count": 37,
   "id": "14373ccd",
   "metadata": {},
   "outputs": [
    {
     "name": "stdout",
     "output_type": "stream",
     "text": [
      "['i got this for christmas , and it is a great gift']\n",
      "['great quality picture and features']\n",
      "['the pictures are uniformly excellent and color rendering is perfect']\n",
      "['the great and versatile ipod']\n",
      "['versatile and stylish']\n",
      "['i received this item for christmas and it has met and exceeded all my standards']\n",
      "['i have the software working fine now and the mp3 player is fantastic']\n",
      "['the ss body is wonderful , feels high quality']\n",
      "['putting in mp3 player , lots of games and application to download']\n",
      "['the battery recharges raul fast and the recharger thingy that comes with is real nice']\n"
     ]
    }
   ],
   "source": [
    "# Print 10 most positive descriptions\n",
    "for i in range(10):\n",
    "    print(X_test[np.where(y_predicted_flatenned == sorted(y_predicted_flatenned, reverse=True)[i])])"
   ]
  },
  {
   "cell_type": "code",
   "execution_count": 38,
   "id": "78547d6d",
   "metadata": {},
   "outputs": [
    {
     "name": "stdout",
     "output_type": "stream",
     "text": [
      "['buying software that can not be installed normally and being put into the position of having a non working computer']\n",
      "['also , diapers tend to stay in the middle , causing the pail to get backed up']\n",
      "['but if i installed either one of these norton products , neither works after installation ?']\n",
      "['i tried to call norton , and the only numbers they list on their sites are either for non tech customer service ( tried this one and hung up after 75 minute of muzak ) or they have a 30 tech support number']\n",
      "[\"both of the problem dvd 's would repeatedly freeze during playback , while the counter on the player kept going\"]\n",
      "['6 ) the case occludes the display screen when it is closed']\n",
      "[\"next , the big reason not to buy any norton product if there 's a problem with it , norton charges 30 to even tell them about it\"]\n",
      "[\"the electronic speed control is not doing it ' s job and the router begins to speed up and slow down at will\"]\n",
      "['because steve jobs is a twisted individual and he made sure that he ruined this device by giving it an unrepeatable 18 month battery']\n",
      "['during install , nis would either freeze or not reboot properly when asked to do so']\n"
     ]
    }
   ],
   "source": [
    "# Print 10 most positive descriptions\n",
    "for i in range(10):\n",
    "    print(X_test[np.where(y_predicted_flatenned == sorted(y_predicted_flatenned)[i])])"
   ]
  },
  {
   "cell_type": "code",
   "execution_count": 25,
   "id": "3783ec60",
   "metadata": {},
   "outputs": [
    {
     "data": {
      "text/plain": [
       "array([0.7098175 , 0.5533273 , 0.88450027, 0.8316175 , 0.8590526 ,\n",
       "       0.8159018 , 0.31522012, 0.42571643, 0.6276557 , 0.8489358 ,\n",
       "       0.788535  , 0.3889151 , 0.26510668, 0.84301174, 0.7904847 ,\n",
       "       0.90163046, 0.4000092 , 0.50468546, 0.8163722 , 0.46293202,\n",
       "       0.8919591 , 0.7579541 , 0.46269983, 0.7973956 , 0.84820145,\n",
       "       0.2082802 , 0.72812605, 0.23916657, 0.7325716 , 0.7576101 ,\n",
       "       0.3686539 , 0.40503857, 0.6356374 , 0.9757832 , 0.26397967,\n",
       "       0.65283656, 0.7222087 , 0.684924  , 0.45967597, 0.3512974 ,\n",
       "       0.14763665, 0.24349396, 0.12877862, 0.7674656 , 0.53915197,\n",
       "       0.93033236, 0.15275978, 0.6700925 , 0.7296758 , 0.18821083,\n",
       "       0.60503316, 0.24847071, 0.9041024 , 0.78904915, 0.3324178 ,\n",
       "       0.25558516, 0.5543474 , 0.6717207 , 0.78192073, 0.2745595 ,\n",
       "       0.2778863 , 0.5652339 , 0.31095904, 0.7058536 , 0.25616726,\n",
       "       0.8819514 , 0.587659  , 0.49575084, 0.8838787 , 0.5847519 ,\n",
       "       0.6098108 , 0.42768544, 0.77797216, 0.12821639, 0.5223565 ,\n",
       "       0.6896157 , 0.791245  , 0.37580103, 0.52752084, 0.72792804,\n",
       "       0.8336338 , 0.14574358, 0.5474732 , 0.6085507 , 0.55890834,\n",
       "       0.9274151 , 0.40922305, 0.972966  , 0.4855097 , 0.780147  ,\n",
       "       0.89099383, 0.8704981 , 0.8133163 , 0.67401874, 0.6967358 ,\n",
       "       0.5415859 , 0.9560349 , 0.70438874, 0.34957656, 0.77250934,\n",
       "       0.44616708, 0.45075223, 0.81358296, 0.80454034, 0.28915057,\n",
       "       0.6432852 , 0.80516845, 0.3153814 , 0.70865965, 0.62165505,\n",
       "       0.2778454 , 0.08782212, 0.5256773 , 0.81396127, 0.38208795,\n",
       "       0.58045346, 0.65496176, 0.7711714 , 0.72440886, 0.570126  ,\n",
       "       0.30010077, 0.8882888 , 0.8641563 , 0.8434532 , 0.5151695 ,\n",
       "       0.31002083, 0.55080986, 0.41900304, 0.8219519 , 0.85401714,\n",
       "       0.73121613, 0.6292314 , 0.17436528, 0.8487061 , 0.62533164,\n",
       "       0.762603  , 0.46378678, 0.90292495, 0.9462756 , 0.9087436 ,\n",
       "       0.8146496 , 0.35036233, 0.6496714 , 0.49574536, 0.45986384,\n",
       "       0.81688905, 0.21130034, 0.95508313, 0.8523014 , 0.8399235 ,\n",
       "       0.6466162 , 0.7175766 , 0.9379624 , 0.92324847, 0.69872564,\n",
       "       0.83631593, 0.9540404 , 0.84395105, 0.93764555, 0.5682954 ,\n",
       "       0.8424972 , 0.5612184 , 0.45227945, 0.37477884, 0.7484125 ,\n",
       "       0.63717854, 0.5816978 , 0.40224972, 0.75893116, 0.18338536,\n",
       "       0.8600764 , 0.65060145, 0.45111552, 0.1931465 , 0.6831983 ,\n",
       "       0.43359455, 0.3466148 , 0.89058185, 0.94168574, 0.95816725,\n",
       "       0.84256965, 0.9442787 , 0.7193    , 0.39261344, 0.7489477 ,\n",
       "       0.6914595 , 0.49683934, 0.3335535 , 0.29917994, 0.5822159 ,\n",
       "       0.924242  , 0.66509986, 0.2229763 , 0.8219368 , 0.75939995,\n",
       "       0.7723202 , 0.70404035, 0.35763007, 0.92236084, 0.6740254 ,\n",
       "       0.5546563 , 0.6022388 , 0.8932703 , 0.72791934, 0.8115154 ,\n",
       "       0.50348604, 0.4951279 , 0.7932583 , 0.7196575 , 0.42529497,\n",
       "       0.42371687, 0.33985755, 0.9202312 , 0.67155516, 0.62308794,\n",
       "       0.5721055 , 0.92163885, 0.931097  , 0.1655225 , 0.691525  ,\n",
       "       0.3183668 , 0.5372334 , 0.46203685, 0.74034435, 0.68335694,\n",
       "       0.51224613, 0.9228695 , 0.5947809 , 0.6340407 , 0.6887624 ,\n",
       "       0.74970484, 0.48412693, 0.8993346 , 0.549465  , 0.7728633 ,\n",
       "       0.5019322 , 0.3597511 , 0.80526364, 0.70692176, 0.89286166,\n",
       "       0.9359051 , 0.93417656, 0.9039497 , 0.5519771 , 0.5287446 ,\n",
       "       0.27936745, 0.75223696, 0.91729516, 0.876723  , 0.87083954,\n",
       "       0.62450695, 0.53790945, 0.7782054 , 0.07071876, 0.68640447,\n",
       "       0.6099956 , 0.5579161 , 0.7279179 , 0.6950771 , 0.9521234 ,\n",
       "       0.7765537 , 0.7068312 , 0.3168294 , 0.85535765, 0.43581855,\n",
       "       0.53357637, 0.93106484, 0.7754283 , 0.43675026, 0.3131153 ,\n",
       "       0.44117743, 0.7129162 , 0.90218294, 0.23848681, 0.2688658 ,\n",
       "       0.14496826, 0.59971833, 0.7477275 , 0.6647804 , 0.8830415 ,\n",
       "       0.9377226 , 0.7428622 , 0.60296226, 0.28553203, 0.3738942 ,\n",
       "       0.72444886, 0.8325198 , 0.78491825, 0.49825603, 0.8118428 ,\n",
       "       0.34163323, 0.90267533, 0.9420683 , 0.30044004, 0.4659043 ,\n",
       "       0.60296583, 0.7604789 , 0.33818227, 0.8564686 , 0.89491564,\n",
       "       0.8026628 , 0.5438329 , 0.4098424 , 0.39492443, 0.49635854,\n",
       "       0.80473727, 0.43549994, 0.63624173, 0.44836855, 0.86322284,\n",
       "       0.8345449 , 0.9091893 , 0.84304225, 0.9315593 , 0.9293631 ,\n",
       "       0.42297733, 0.44501683, 0.45666665, 0.47092405, 0.9294091 ,\n",
       "       0.7260512 , 0.24958658, 0.8889792 , 0.28323495, 0.6106759 ,\n",
       "       0.7257559 , 0.6985755 , 0.85440445, 0.80825835, 0.9256691 ,\n",
       "       0.7449248 , 0.85111445, 0.9345645 , 0.8722454 , 0.8230111 ,\n",
       "       0.88390875, 0.361656  , 0.6597241 , 0.5941351 , 0.19392079,\n",
       "       0.5248733 , 0.7095431 , 0.6808415 , 0.57679266, 0.7922696 ,\n",
       "       0.37056756, 0.7923528 , 0.8177939 , 0.7281117 , 0.92955416,\n",
       "       0.7742278 , 0.6638243 , 0.95670444, 0.85788226, 0.77665406,\n",
       "       0.49328244, 0.52851325, 0.5018496 , 0.42524046, 0.50729704,\n",
       "       0.46474785, 0.804414  , 0.81547016, 0.95504385, 0.82131976,\n",
       "       0.9810011 , 0.633606  , 0.43789163, 0.6576024 , 0.39902294,\n",
       "       0.7435018 , 0.9074346 , 0.8470297 , 0.8908108 , 0.7116695 ,\n",
       "       0.8627992 , 0.5743228 , 0.58426726, 0.45953485, 0.68522114,\n",
       "       0.94705105, 0.5705143 , 0.10252305, 0.47059563, 0.47992724,\n",
       "       0.5727126 , 0.8486111 , 0.7370183 , 0.7919805 , 0.88702965,\n",
       "       0.69054294, 0.29885608, 0.3521071 , 0.5381615 , 0.73806804,\n",
       "       0.8422707 , 0.35352454, 0.7472643 , 0.45368573, 0.44780922,\n",
       "       0.893845  , 0.79629827, 0.79736733, 0.17706718, 0.46323767,\n",
       "       0.7367463 , 0.775136  , 0.73424417, 0.70574814, 0.57148004,\n",
       "       0.8705421 , 0.13253695, 0.94211507, 0.8444356 , 0.8322968 ,\n",
       "       0.65024817, 0.8894572 , 0.22305079, 0.8801718 , 0.5616207 ,\n",
       "       0.84682894, 0.7788955 , 0.8800393 , 0.4153733 , 0.72106093,\n",
       "       0.5042947 , 0.92706436, 0.49489087, 0.26753035, 0.27179462,\n",
       "       0.7211082 , 0.9325632 , 0.3495287 , 0.44988355, 0.89373964,\n",
       "       0.85297906, 0.43950325, 0.89426035, 0.45825607, 0.834827  ,\n",
       "       0.705955  , 0.27110842, 0.6287347 , 0.863201  , 0.8952048 ,\n",
       "       0.05680183, 0.26218465, 0.6214096 , 0.7140295 , 0.8170075 ,\n",
       "       0.70407176, 0.9609946 , 0.3092222 , 0.6960918 , 0.73086345,\n",
       "       0.5994293 , 0.3482003 , 0.65632415, 0.9211961 , 0.8690134 ,\n",
       "       0.9094705 , 0.44432843, 0.93005115, 0.6677886 , 0.37721935,\n",
       "       0.5767987 , 0.34191042, 0.59795946, 0.78922147, 0.9167256 ,\n",
       "       0.60024935, 0.6942194 , 0.7996314 , 0.95819587, 0.52103883,\n",
       "       0.35247484, 0.8809763 , 0.455239  , 0.43963346, 0.16850832,\n",
       "       0.9122829 , 0.562528  , 0.35301378, 0.29141167, 0.9249315 ,\n",
       "       0.65176326, 0.23112307, 0.68733364, 0.36224052, 0.8559229 ,\n",
       "       0.66822904, 0.8562969 , 0.85402143, 0.6469252 , 0.90734935,\n",
       "       0.2712864 , 0.87137455, 0.9475185 , 0.8956698 , 0.14512168,\n",
       "       0.88211006, 0.5440103 , 0.87347883, 0.7692432 , 0.3298354 ,\n",
       "       0.8981543 , 0.5998325 , 0.51693046, 0.42101067, 0.3894603 ,\n",
       "       0.86627   , 0.8751398 , 0.8747535 , 0.63130563, 0.78144056,\n",
       "       0.6379157 , 0.6989002 , 0.40816277, 0.7406821 , 0.6612027 ,\n",
       "       0.83274066, 0.5808713 , 0.4239928 , 0.6858058 , 0.43632936,\n",
       "       0.4536752 , 0.49907434, 0.6673431 , 0.47901222, 0.9104231 ,\n",
       "       0.93076473, 0.887404  , 0.7466072 , 0.44933674, 0.6021606 ,\n",
       "       0.9333332 , 0.81900054, 0.8149316 , 0.8741655 , 0.520281  ,\n",
       "       0.9361056 , 0.7271777 , 0.94404596, 0.8176216 , 0.7060392 ,\n",
       "       0.8860788 , 0.6989143 , 0.73487955, 0.85478777, 0.58094704,\n",
       "       0.8454687 , 0.9455956 , 0.89842945, 0.5528619 , 0.8555327 ,\n",
       "       0.15836439, 0.9148708 , 0.7609012 , 0.5951329 , 0.94489115,\n",
       "       0.51530224, 0.5485217 , 0.72772473, 0.6825658 , 0.5242879 ,\n",
       "       0.9544666 , 0.93559206, 0.62063736, 0.55960095, 0.5704114 ,\n",
       "       0.71768147, 0.96044505, 0.5589645 , 0.9351539 , 0.5720761 ,\n",
       "       0.89580953, 0.81181365, 0.726365  , 0.7352444 , 0.33771896,\n",
       "       0.87260324, 0.50097966, 0.48161936, 0.27568224, 0.7509445 ,\n",
       "       0.37676498, 0.5494618 , 0.78396726, 0.41479588, 0.19239976,\n",
       "       0.90566266, 0.6845713 , 0.78449154, 0.6160065 , 0.5385291 ,\n",
       "       0.58193827, 0.27828315, 0.57537234, 0.8433927 , 0.50030774,\n",
       "       0.6407561 , 0.53185123, 0.5754296 , 0.59528005, 0.39810792,\n",
       "       0.53993887, 0.3657398 , 0.95105016, 0.35535198, 0.66073686,\n",
       "       0.82014996, 0.5553487 , 0.6835394 , 0.88681644, 0.90711415,\n",
       "       0.65872157, 0.67313015, 0.6156073 , 0.81955254, 0.804634  ,\n",
       "       0.8095899 , 0.9684365 , 0.6069146 , 0.8241785 , 0.79183286,\n",
       "       0.36218882, 0.57506007, 0.36089012, 0.65161604, 0.57546574,\n",
       "       0.46038216, 0.909937  , 0.3351489 , 0.35961488, 0.8831664 ,\n",
       "       0.58365756, 0.71952575, 0.28870714, 0.56585497, 0.32843295,\n",
       "       0.6420991 , 0.7719483 , 0.7615869 , 0.7601659 , 0.82964665,\n",
       "       0.6951313 , 0.26646152, 0.37670636, 0.90161586, 0.5103487 ,\n",
       "       0.71141565, 0.47539192, 0.84011966, 0.2901305 , 0.61450404,\n",
       "       0.8864203 , 0.3685762 , 0.9480003 , 0.87468505, 0.8974068 ,\n",
       "       0.52778167, 0.24745509, 0.54866594, 0.89409786, 0.96623373,\n",
       "       0.90147835, 0.29641864, 0.55228925, 0.91686267, 0.86763376,\n",
       "       0.6458632 , 0.776334  , 0.8852262 , 0.9198412 , 0.85843986,\n",
       "       0.6968872 , 0.8739808 , 0.20206499, 0.6455465 , 0.66124123,\n",
       "       0.9321247 , 0.95989275, 0.6902724 , 0.63089293, 0.80584514,\n",
       "       0.27870283, 0.2830232 , 0.951464  , 0.7755413 , 0.16217346,\n",
       "       0.80816567, 0.72032833, 0.59130764, 0.34800446, 0.50261307,\n",
       "       0.44273797, 0.49958435, 0.58408546, 0.20016697, 0.8541748 ,\n",
       "       0.67248386, 0.8179658 , 0.7579934 , 0.7106409 , 0.88031626,\n",
       "       0.3552789 , 0.4903322 , 0.42571643, 0.86768687, 0.74823964,\n",
       "       0.87626326, 0.1804555 , 0.541681  , 0.7716388 , 0.93686694,\n",
       "       0.56431717, 0.81863254, 0.32238448, 0.08745818, 0.43640888,\n",
       "       0.28777274, 0.73479605, 0.5127057 , 0.21354195, 0.9023539 ,\n",
       "       0.8202125 , 0.9448989 , 0.8592044 , 0.7838546 , 0.49672067,\n",
       "       0.33146995, 0.9491221 , 0.92623436, 0.613941  , 0.61854506,\n",
       "       0.6191935 , 0.9674571 , 0.2805291 , 0.49064493, 0.8746476 ,\n",
       "       0.667629  , 0.9061712 , 0.7554073 , 0.62182176, 0.97726965,\n",
       "       0.3278861 , 0.31222007, 0.9554104 , 0.87640715, 0.6053542 ,\n",
       "       0.24181472, 0.35769236, 0.7322488 , 0.77158326], dtype=float32)"
      ]
     },
     "execution_count": 25,
     "metadata": {},
     "output_type": "execute_result"
    }
   ],
   "source": [
    "y_predicted_flatenned"
   ]
  },
  {
   "cell_type": "code",
   "execution_count": 52,
   "id": "ba7805b9",
   "metadata": {},
   "outputs": [
    {
     "data": {
      "text/plain": [
       "0      1\n",
       "1      1\n",
       "2      1\n",
       "3      1\n",
       "4      1\n",
       "      ..\n",
       "749    1\n",
       "750    0\n",
       "751    0\n",
       "752    1\n",
       "753    1\n",
       "Length: 754, dtype: int64"
      ]
     },
     "execution_count": 52,
     "metadata": {},
     "output_type": "execute_result"
    }
   ],
   "source": [
    "def dic_values(x):\n",
    "    if(x <= 0.5):\n",
    "        return 0\n",
    "    else:\n",
    "        return 1\n",
    "\n",
    "y_predicted_labels = pd.Series(y_predicted_flatenned).map(dic_values)\n",
    "y_predicted_labels"
   ]
  },
  {
   "cell_type": "code",
   "execution_count": 114,
   "id": "982e6b10",
   "metadata": {},
   "outputs": [
    {
     "data": {
      "text/plain": [
       "'{ \"0\":1, \"1\":1, \"2\":1, \"3\":1, \"4\":1, \"5\":1, \"6\":0, \"7\":0, \"8\":1, \"9\":1, \"10\":1, \"11\":0, \"12\":0, \"13\":1, \"14\":1, \"15\":1, \"16\":0, \"17\":1, \"18\":1, \"19\":0, \"20\":1, \"21\":1, \"22\":0, \"23\":1, \"24\":1, \"25\":0, \"26\":1, \"27\":0, \"28\":1, \"29\":1, \"30\":0, \"31\":0, \"32\":1, \"33\":1, \"34\":0, \"35\":1, \"36\":1, \"37\":1, \"38\":0, \"39\":0, \"40\":0, \"41\":0, \"42\":0, \"43\":1, \"44\":1, \"45\":1, \"46\":0, \"47\":1, \"48\":1, \"49\":0, \"50\":1, \"51\":0, \"52\":1, \"53\":1, \"54\":0, \"55\":0, \"56\":1, \"57\":1, \"58\":1, \"59\":0, \"60\":0, \"61\":1, \"62\":0, \"63\":1, \"64\":0, \"65\":1, \"66\":1, \"67\":0, \"68\":1, \"69\":1, \"70\":1, \"71\":0, \"72\":1, \"73\":0, \"74\":1, \"75\":1, \"76\":1, \"77\":0, \"78\":1, \"79\":1, \"80\":1, \"81\":0, \"82\":1, \"83\":1, \"84\":1, \"85\":1, \"86\":0, \"87\":1, \"88\":0, \"89\":1, \"90\":1, \"91\":1, \"92\":1, \"93\":1, \"94\":1, \"95\":1, \"96\":1, \"97\":1, \"98\":0, \"99\":1, \"100\":0, \"101\":0, \"102\":1, \"103\":1, \"104\":0, \"105\":1, \"106\":1, \"107\":0, \"108\":1, \"109\":1, \"110\":0, \"111\":0, \"112\":1, \"113\":1, \"114\":0, \"115\":1, \"116\":1, \"117\":1, \"118\":1, \"119\":1, \"120\":0, \"121\":1, \"122\":1, \"123\":1, \"124\":1, \"125\":0, \"126\":1, \"127\":0, \"128\":1, \"129\":1, \"130\":1, \"131\":1, \"132\":0, \"133\":1, \"134\":1, \"135\":1, \"136\":0, \"137\":1, \"138\":1, \"139\":1, \"140\":1, \"141\":0, \"142\":1, \"143\":0, \"144\":0, \"145\":1, \"146\":0, \"147\":1, \"148\":1, \"149\":1, \"150\":1, \"151\":1, \"152\":1, \"153\":1, \"154\":1, \"155\":1, \"156\":1, \"157\":1, \"158\":1, \"159\":1, \"160\":1, \"161\":1, \"162\":0, \"163\":0, \"164\":1, \"165\":1, \"166\":1, \"167\":0, \"168\":1, \"169\":0, \"170\":1, \"171\":1, \"172\":0, \"173\":0, \"174\":1, \"175\":0, \"176\":0, \"177\":1, \"178\":1, \"179\":1, \"180\":1, \"181\":1, \"182\":1, \"183\":0, \"184\":1, \"185\":1, \"186\":0, \"187\":0, \"188\":0, \"189\":1, \"190\":1, \"191\":1, \"192\":0, \"193\":1, \"194\":1, \"195\":1, \"196\":1, \"197\":0, \"198\":1, \"199\":1, \"200\":1, \"201\":1, \"202\":1, \"203\":1, \"204\":1, \"205\":1, \"206\":0, \"207\":1, \"208\":1, \"209\":0, \"210\":0, \"211\":0, \"212\":1, \"213\":1, \"214\":1, \"215\":1, \"216\":1, \"217\":1, \"218\":0, \"219\":1, \"220\":0, \"221\":1, \"222\":0, \"223\":1, \"224\":1, \"225\":1, \"226\":1, \"227\":1, \"228\":1, \"229\":1, \"230\":1, \"231\":0, \"232\":1, \"233\":1, \"234\":1, \"235\":1, \"236\":0, \"237\":1, \"238\":1, \"239\":1, \"240\":1, \"241\":1, \"242\":1, \"243\":1, \"244\":1, \"245\":0, \"246\":1, \"247\":1, \"248\":1, \"249\":1, \"250\":1, \"251\":1, \"252\":1, \"253\":0, \"254\":1, \"255\":1, \"256\":1, \"257\":1, \"258\":1, \"259\":1, \"260\":1, \"261\":1, \"262\":0, \"263\":1, \"264\":0, \"265\":1, \"266\":1, \"267\":1, \"268\":0, \"269\":0, \"270\":0, \"271\":1, \"272\":1, \"273\":0, \"274\":0, \"275\":0, \"276\":1, \"277\":1, \"278\":1, \"279\":1, \"280\":1, \"281\":1, \"282\":1, \"283\":0, \"284\":0, \"285\":1, \"286\":1, \"287\":1, \"288\":0, \"289\":1, \"290\":0, \"291\":1, \"292\":1, \"293\":0, \"294\":0, \"295\":1, \"296\":1, \"297\":0, \"298\":1, \"299\":1, \"300\":1, \"301\":1, \"302\":0, \"303\":0, \"304\":0, \"305\":1, \"306\":0, \"307\":1, \"308\":0, \"309\":1, \"310\":1, \"311\":1, \"312\":1, \"313\":1, \"314\":1, \"315\":0, \"316\":0, \"317\":0, \"318\":0, \"319\":1, \"320\":1, \"321\":0, \"322\":1, \"323\":0, \"324\":1, \"325\":1, \"326\":1, \"327\":1, \"328\":1, \"329\":1, \"330\":1, \"331\":1, \"332\":1, \"333\":1, \"334\":1, \"335\":1, \"336\":0, \"337\":1, \"338\":1, \"339\":0, \"340\":1, \"341\":1, \"342\":1, \"343\":1, \"344\":1, \"345\":0, \"346\":1, \"347\":1, \"348\":1, \"349\":1, \"350\":1, \"351\":1, \"352\":1, \"353\":1, \"354\":1, \"355\":0, \"356\":1, \"357\":1, \"358\":0, \"359\":1, \"360\":0, \"361\":1, \"362\":1, \"363\":1, \"364\":1, \"365\":1, \"366\":1, \"367\":0, \"368\":1, \"369\":0, \"370\":1, \"371\":1, \"372\":1, \"373\":1, \"374\":1, \"375\":1, \"376\":1, \"377\":1, \"378\":0, \"379\":1, \"380\":1, \"381\":1, \"382\":0, \"383\":0, \"384\":0, \"385\":1, \"386\":1, \"387\":1, \"388\":1, \"389\":1, \"390\":1, \"391\":0, \"392\":0, \"393\":1, \"394\":1, \"395\":1, \"396\":0, \"397\":1, \"398\":0, \"399\":0, \"400\":1, \"401\":1, \"402\":1, \"403\":0, \"404\":0, \"405\":1, \"406\":1, \"407\":1, \"408\":1, \"409\":1, \"410\":1, \"411\":0, \"412\":1, \"413\":1, \"414\":1, \"415\":1, \"416\":1, \"417\":0, \"418\":1, \"419\":1, \"420\":1, \"421\":1, \"422\":1, \"423\":0, \"424\":1, \"425\":1, \"426\":1, \"427\":0, \"428\":0, \"429\":0, \"430\":1, \"431\":1, \"432\":0, \"433\":0, \"434\":1, \"435\":1, \"436\":0, \"437\":1, \"438\":0, \"439\":1, \"440\":1, \"441\":0, \"442\":1, \"443\":1, \"444\":1, \"445\":0, \"446\":0, \"447\":1, \"448\":1, \"449\":1, \"450\":1, \"451\":1, \"452\":0, \"453\":1, \"454\":1, \"455\":1, \"456\":0, \"457\":1, \"458\":1, \"459\":1, \"460\":1, \"461\":0, \"462\":1, \"463\":1, \"464\":0, \"465\":1, \"466\":0, \"467\":1, \"468\":1, \"469\":1, \"470\":1, \"471\":1, \"472\":1, \"473\":1, \"474\":1, \"475\":0, \"476\":1, \"477\":0, \"478\":0, \"479\":0, \"480\":1, \"481\":1, \"482\":0, \"483\":0, \"484\":1, \"485\":1, \"486\":0, \"487\":1, \"488\":0, \"489\":1, \"490\":1, \"491\":1, \"492\":1, \"493\":1, \"494\":1, \"495\":0, \"496\":1, \"497\":1, \"498\":1, \"499\":0, \"500\":1, \"501\":1, \"502\":1, \"503\":1, \"504\":0, \"505\":1, \"506\":1, \"507\":1, \"508\":0, \"509\":0, \"510\":1, \"511\":1, \"512\":1, \"513\":1, \"514\":1, \"515\":1, \"516\":1, \"517\":0, \"518\":1, \"519\":1, \"520\":1, \"521\":1, \"522\":0, \"523\":1, \"524\":0, \"525\":0, \"526\":0, \"527\":1, \"528\":0, \"529\":1, \"530\":1, \"531\":1, \"532\":1, \"533\":0, \"534\":1, \"535\":1, \"536\":1, \"537\":1, \"538\":1, \"539\":1, \"540\":1, \"541\":1, \"542\":1, \"543\":1, \"544\":1, \"545\":1, \"546\":1, \"547\":1, \"548\":1, \"549\":1, \"550\":1, \"551\":1, \"552\":1, \"553\":1, \"554\":1, \"555\":0, \"556\":1, \"557\":1, \"558\":1, \"559\":1, \"560\":1, \"561\":1, \"562\":1, \"563\":1, \"564\":1, \"565\":1, \"566\":1, \"567\":1, \"568\":1, \"569\":1, \"570\":1, \"571\":1, \"572\":1, \"573\":1, \"574\":1, \"575\":1, \"576\":1, \"577\":1, \"578\":1, \"579\":0, \"580\":1, \"581\":1, \"582\":0, \"583\":0, \"584\":1, \"585\":0, \"586\":1, \"587\":1, \"588\":0, \"589\":0, \"590\":1, \"591\":1, \"592\":1, \"593\":1, \"594\":1, \"595\":1, \"596\":0, \"597\":1, \"598\":1, \"599\":1, \"600\":1, \"601\":1, \"602\":1, \"603\":1, \"604\":0, \"605\":1, \"606\":0, \"607\":1, \"608\":0, \"609\":1, \"610\":1, \"611\":1, \"612\":1, \"613\":1, \"614\":1, \"615\":1, \"616\":1, \"617\":1, \"618\":1, \"619\":1, \"620\":1, \"621\":1, \"622\":1, \"623\":1, \"624\":1, \"625\":0, \"626\":1, \"627\":0, \"628\":1, \"629\":1, \"630\":0, \"631\":1, \"632\":0, \"633\":0, \"634\":1, \"635\":1, \"636\":1, \"637\":0, \"638\":1, \"639\":0, \"640\":1, \"641\":1, \"642\":1, \"643\":1, \"644\":1, \"645\":1, \"646\":0, \"647\":0, \"648\":1, \"649\":1, \"650\":1, \"651\":0, \"652\":1, \"653\":0, \"654\":1, \"655\":1, \"656\":0, \"657\":1, \"658\":1, \"659\":1, \"660\":1, \"661\":0, \"662\":1, \"663\":1, \"664\":1, \"665\":1, \"666\":0, \"667\":1, \"668\":1, \"669\":1, \"670\":1, \"671\":1, \"672\":1, \"673\":1, \"674\":1, \"675\":1, \"676\":1, \"677\":0, \"678\":1, \"679\":1, \"680\":1, \"681\":1, \"682\":1, \"683\":1, \"684\":1, \"685\":0, \"686\":0, \"687\":1, \"688\":1, \"689\":0, \"690\":1, \"691\":1, \"692\":1, \"693\":0, \"694\":1, \"695\":0, \"696\":0, \"697\":1, \"698\":0, \"699\":1, \"700\":1, \"701\":1, \"702\":1, \"703\":1, \"704\":1, \"705\":0, \"706\":0, \"707\":0, \"708\":1, \"709\":1, \"710\":1, \"711\":0, \"712\":1, \"713\":1, \"714\":1, \"715\":1, \"716\":1, \"717\":0, \"718\":0, \"719\":0, \"720\":0, \"721\":1, \"722\":1, \"723\":0, \"724\":1, \"725\":1, \"726\":1, \"727\":1, \"728\":1, \"729\":0, \"730\":0, \"731\":1, \"732\":1, \"733\":1, \"734\":1, \"735\":1, \"736\":1, \"737\":0, \"738\":0, \"739\":1, \"740\":1, \"741\":1, \"742\":1, \"743\":1, \"744\":1, \"745\":0, \"746\":0, \"747\":1, \"748\":1, \"749\":1, \"750\":0, \"751\":0, \"752\":1, \"753\":1}'"
      ]
     },
     "execution_count": 114,
     "metadata": {},
     "output_type": "execute_result"
    }
   ],
   "source": [
    "y_predicted_labels.to_json(indent = 1).replace(\"\\n\", \"\")"
   ]
  },
  {
   "cell_type": "code",
   "execution_count": 122,
   "id": "949f92ca",
   "metadata": {},
   "outputs": [
    {
     "name": "stdout",
     "output_type": "stream",
     "text": [
      "{'target': {'0': 1, '1': 1, '2': 1, '3': 1, '4': 1, '5': 1, '6': 0, '7': 0, '8': 1, '9': 1, '10': 1, '11': 0, '12': 0, '13': 1, '14': 1, '15': 1, '16': 0, '17': 1, '18': 1, '19': 0, '20': 1, '21': 1, '22': 0, '23': 1, '24': 1, '25': 0, '26': 1, '27': 0, '28': 1, '29': 1, '30': 0, '31': 0, '32': 1, '33': 1, '34': 0, '35': 1, '36': 1, '37': 1, '38': 0, '39': 0, '40': 0, '41': 0, '42': 0, '43': 1, '44': 1, '45': 1, '46': 0, '47': 1, '48': 1, '49': 0, '50': 1, '51': 0, '52': 1, '53': 1, '54': 0, '55': 0, '56': 1, '57': 1, '58': 1, '59': 0, '60': 0, '61': 1, '62': 0, '63': 1, '64': 0, '65': 1, '66': 1, '67': 0, '68': 1, '69': 1, '70': 1, '71': 0, '72': 1, '73': 0, '74': 1, '75': 1, '76': 1, '77': 0, '78': 1, '79': 1, '80': 1, '81': 0, '82': 1, '83': 1, '84': 1, '85': 1, '86': 0, '87': 1, '88': 0, '89': 1, '90': 1, '91': 1, '92': 1, '93': 1, '94': 1, '95': 1, '96': 1, '97': 1, '98': 0, '99': 1, '100': 0, '101': 0, '102': 1, '103': 1, '104': 0, '105': 1, '106': 1, '107': 0, '108': 1, '109': 1, '110': 0, '111': 0, '112': 1, '113': 1, '114': 0, '115': 1, '116': 1, '117': 1, '118': 1, '119': 1, '120': 0, '121': 1, '122': 1, '123': 1, '124': 1, '125': 0, '126': 1, '127': 0, '128': 1, '129': 1, '130': 1, '131': 1, '132': 0, '133': 1, '134': 1, '135': 1, '136': 0, '137': 1, '138': 1, '139': 1, '140': 1, '141': 0, '142': 1, '143': 0, '144': 0, '145': 1, '146': 0, '147': 1, '148': 1, '149': 1, '150': 1, '151': 1, '152': 1, '153': 1, '154': 1, '155': 1, '156': 1, '157': 1, '158': 1, '159': 1, '160': 1, '161': 1, '162': 0, '163': 0, '164': 1, '165': 1, '166': 1, '167': 0, '168': 1, '169': 0, '170': 1, '171': 1, '172': 0, '173': 0, '174': 1, '175': 0, '176': 0, '177': 1, '178': 1, '179': 1, '180': 1, '181': 1, '182': 1, '183': 0, '184': 1, '185': 1, '186': 0, '187': 0, '188': 0, '189': 1, '190': 1, '191': 1, '192': 0, '193': 1, '194': 1, '195': 1, '196': 1, '197': 0, '198': 1, '199': 1, '200': 1, '201': 1, '202': 1, '203': 1, '204': 1, '205': 1, '206': 0, '207': 1, '208': 1, '209': 0, '210': 0, '211': 0, '212': 1, '213': 1, '214': 1, '215': 1, '216': 1, '217': 1, '218': 0, '219': 1, '220': 0, '221': 1, '222': 0, '223': 1, '224': 1, '225': 1, '226': 1, '227': 1, '228': 1, '229': 1, '230': 1, '231': 0, '232': 1, '233': 1, '234': 1, '235': 1, '236': 0, '237': 1, '238': 1, '239': 1, '240': 1, '241': 1, '242': 1, '243': 1, '244': 1, '245': 0, '246': 1, '247': 1, '248': 1, '249': 1, '250': 1, '251': 1, '252': 1, '253': 0, '254': 1, '255': 1, '256': 1, '257': 1, '258': 1, '259': 1, '260': 1, '261': 1, '262': 0, '263': 1, '264': 0, '265': 1, '266': 1, '267': 1, '268': 0, '269': 0, '270': 0, '271': 1, '272': 1, '273': 0, '274': 0, '275': 0, '276': 1, '277': 1, '278': 1, '279': 1, '280': 1, '281': 1, '282': 1, '283': 0, '284': 0, '285': 1, '286': 1, '287': 1, '288': 0, '289': 1, '290': 0, '291': 1, '292': 1, '293': 0, '294': 0, '295': 1, '296': 1, '297': 0, '298': 1, '299': 1, '300': 1, '301': 1, '302': 0, '303': 0, '304': 0, '305': 1, '306': 0, '307': 1, '308': 0, '309': 1, '310': 1, '311': 1, '312': 1, '313': 1, '314': 1, '315': 0, '316': 0, '317': 0, '318': 0, '319': 1, '320': 1, '321': 0, '322': 1, '323': 0, '324': 1, '325': 1, '326': 1, '327': 1, '328': 1, '329': 1, '330': 1, '331': 1, '332': 1, '333': 1, '334': 1, '335': 1, '336': 0, '337': 1, '338': 1, '339': 0, '340': 1, '341': 1, '342': 1, '343': 1, '344': 1, '345': 0, '346': 1, '347': 1, '348': 1, '349': 1, '350': 1, '351': 1, '352': 1, '353': 1, '354': 1, '355': 0, '356': 1, '357': 1, '358': 0, '359': 1, '360': 0, '361': 1, '362': 1, '363': 1, '364': 1, '365': 1, '366': 1, '367': 0, '368': 1, '369': 0, '370': 1, '371': 1, '372': 1, '373': 1, '374': 1, '375': 1, '376': 1, '377': 1, '378': 0, '379': 1, '380': 1, '381': 1, '382': 0, '383': 0, '384': 0, '385': 1, '386': 1, '387': 1, '388': 1, '389': 1, '390': 1, '391': 0, '392': 0, '393': 1, '394': 1, '395': 1, '396': 0, '397': 1, '398': 0, '399': 0, '400': 1, '401': 1, '402': 1, '403': 0, '404': 0, '405': 1, '406': 1, '407': 1, '408': 1, '409': 1, '410': 1, '411': 0, '412': 1, '413': 1, '414': 1, '415': 1, '416': 1, '417': 0, '418': 1, '419': 1, '420': 1, '421': 1, '422': 1, '423': 0, '424': 1, '425': 1, '426': 1, '427': 0, '428': 0, '429': 0, '430': 1, '431': 1, '432': 0, '433': 0, '434': 1, '435': 1, '436': 0, '437': 1, '438': 0, '439': 1, '440': 1, '441': 0, '442': 1, '443': 1, '444': 1, '445': 0, '446': 0, '447': 1, '448': 1, '449': 1, '450': 1, '451': 1, '452': 0, '453': 1, '454': 1, '455': 1, '456': 0, '457': 1, '458': 1, '459': 1, '460': 1, '461': 0, '462': 1, '463': 1, '464': 0, '465': 1, '466': 0, '467': 1, '468': 1, '469': 1, '470': 1, '471': 1, '472': 1, '473': 1, '474': 1, '475': 0, '476': 1, '477': 0, '478': 0, '479': 0, '480': 1, '481': 1, '482': 0, '483': 0, '484': 1, '485': 1, '486': 0, '487': 1, '488': 0, '489': 1, '490': 1, '491': 1, '492': 1, '493': 1, '494': 1, '495': 0, '496': 1, '497': 1, '498': 1, '499': 0, '500': 1, '501': 1, '502': 1, '503': 1, '504': 0, '505': 1, '506': 1, '507': 1, '508': 0, '509': 0, '510': 1, '511': 1, '512': 1, '513': 1, '514': 1, '515': 1, '516': 1, '517': 0, '518': 1, '519': 1, '520': 1, '521': 1, '522': 0, '523': 1, '524': 0, '525': 0, '526': 0, '527': 1, '528': 0, '529': 1, '530': 1, '531': 1, '532': 1, '533': 0, '534': 1, '535': 1, '536': 1, '537': 1, '538': 1, '539': 1, '540': 1, '541': 1, '542': 1, '543': 1, '544': 1, '545': 1, '546': 1, '547': 1, '548': 1, '549': 1, '550': 1, '551': 1, '552': 1, '553': 1, '554': 1, '555': 0, '556': 1, '557': 1, '558': 1, '559': 1, '560': 1, '561': 1, '562': 1, '563': 1, '564': 1, '565': 1, '566': 1, '567': 1, '568': 1, '569': 1, '570': 1, '571': 1, '572': 1, '573': 1, '574': 1, '575': 1, '576': 1, '577': 1, '578': 1, '579': 0, '580': 1, '581': 1, '582': 0, '583': 0, '584': 1, '585': 0, '586': 1, '587': 1, '588': 0, '589': 0, '590': 1, '591': 1, '592': 1, '593': 1, '594': 1, '595': 1, '596': 0, '597': 1, '598': 1, '599': 1, '600': 1, '601': 1, '602': 1, '603': 1, '604': 0, '605': 1, '606': 0, '607': 1, '608': 0, '609': 1, '610': 1, '611': 1, '612': 1, '613': 1, '614': 1, '615': 1, '616': 1, '617': 1, '618': 1, '619': 1, '620': 1, '621': 1, '622': 1, '623': 1, '624': 1, '625': 0, '626': 1, '627': 0, '628': 1, '629': 1, '630': 0, '631': 1, '632': 0, '633': 0, '634': 1, '635': 1, '636': 1, '637': 0, '638': 1, '639': 0, '640': 1, '641': 1, '642': 1, '643': 1, '644': 1, '645': 1, '646': 0, '647': 0, '648': 1, '649': 1, '650': 1, '651': 0, '652': 1, '653': 0, '654': 1, '655': 1, '656': 0, '657': 1, '658': 1, '659': 1, '660': 1, '661': 0, '662': 1, '663': 1, '664': 1, '665': 1, '666': 0, '667': 1, '668': 1, '669': 1, '670': 1, '671': 1, '672': 1, '673': 1, '674': 1, '675': 1, '676': 1, '677': 0, '678': 1, '679': 1, '680': 1, '681': 1, '682': 1, '683': 1, '684': 1, '685': 0, '686': 0, '687': 1, '688': 1, '689': 0, '690': 1, '691': 1, '692': 1, '693': 0, '694': 1, '695': 0, '696': 0, '697': 1, '698': 0, '699': 1, '700': 1, '701': 1, '702': 1, '703': 1, '704': 1, '705': 0, '706': 0, '707': 0, '708': 1, '709': 1, '710': 1, '711': 0, '712': 1, '713': 1, '714': 1, '715': 1, '716': 1, '717': 0, '718': 0, '719': 0, '720': 0, '721': 1, '722': 1, '723': 0, '724': 1, '725': 1, '726': 1, '727': 1, '728': 1, '729': 0, '730': 0, '731': 1, '732': 1, '733': 1, '734': 1, '735': 1, '736': 1, '737': 0, '738': 0, '739': 1, '740': 1, '741': 1, '742': 1, '743': 1, '744': 1, '745': 0, '746': 0, '747': 1, '748': 1, '749': 1, '750': 0, '751': 0, '752': 1, '753': 1}}\n"
     ]
    }
   ],
   "source": [
    "import ast\n",
    "preds = {'target': ast.literal_eval(y_predicted_labels.to_json(indent = 1).replace(\"\\n\", \"\"))}\n",
    "print(preds)"
   ]
  },
  {
   "cell_type": "code",
   "execution_count": 124,
   "id": "37f449ae",
   "metadata": {},
   "outputs": [],
   "source": [
    "import json\n",
    "with open('predictions2.json', 'w') as f:\n",
    "    json.dump(preds, f, indent = 1)"
   ]
  },
  {
   "cell_type": "code",
   "execution_count": 83,
   "id": "b70ba47c",
   "metadata": {},
   "outputs": [],
   "source": [
    "with open('predicted_labels.csv', 'w') as f:\n",
    "    y_predicted_labels.values.tofile(file = f, sep =',')"
   ]
  }
 ],
 "metadata": {
  "kernelspec": {
   "display_name": "Python 3 (ipykernel)",
   "language": "python",
   "name": "python3"
  },
  "language_info": {
   "codemirror_mode": {
    "name": "ipython",
    "version": 3
   },
   "file_extension": ".py",
   "mimetype": "text/x-python",
   "name": "python",
   "nbconvert_exporter": "python",
   "pygments_lexer": "ipython3",
   "version": "3.10.6"
  }
 },
 "nbformat": 4,
 "nbformat_minor": 5
}
